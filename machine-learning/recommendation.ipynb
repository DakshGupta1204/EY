{
  "nbformat": 4,
  "nbformat_minor": 0,
  "metadata": {
    "colab": {
      "provenance": [],
      "authorship_tag": "ABX9TyM5CosHyKM8qwIlYjduREod",
      "include_colab_link": true
    },
    "kernelspec": {
      "name": "python3",
      "display_name": "Python 3"
    },
    "language_info": {
      "name": "python"
    }
  },
  "cells": [
    {
      "cell_type": "markdown",
      "metadata": {
        "id": "view-in-github",
        "colab_type": "text"
      },
      "source": [
        "<a href=\"https://colab.research.google.com/github/DakshGupta1204/EY/blob/main/recommendation.ipynb\" target=\"_parent\"><img src=\"https://colab.research.google.com/assets/colab-badge.svg\" alt=\"Open In Colab\"/></a>"
      ]
    },
    {
      "cell_type": "code",
      "source": [
        "import pandas as pd\n",
        "from sklearn.feature_extraction.text import TfidfVectorizer\n",
        "from sklearn.metrics.pairwise import cosine_similarity\n",
        "\n",
        "# Load dataset\n",
        "data = pd.read_csv('/content/Coursera.csv')  # Replace with actual file path\n",
        "\n",
        "# Preprocessing\n",
        "data['Skills'] = data['Skills'].fillna('')\n",
        "data['Combined_Text'] = data['Course Description'] + \" \" + data['Skills']\n",
        "\n",
        "# Vectorization\n",
        "tfidf = TfidfVectorizer(stop_words='english')\n",
        "tfidf_matrix = tfidf.fit_transform(data['Combined_Text'])\n",
        "\n",
        "# Recommendation Function\n",
        "def recommend_courses(interest, skills, level):\n",
        "    query = interest + \" \" + skills\n",
        "    query_vector = tfidf.transform([query])\n",
        "\n",
        "    # Cosine Similarity\n",
        "    similarity = cosine_similarity(query_vector, tfidf_matrix)\n",
        "\n",
        "    # Add similarity scores\n",
        "    data['Similarity'] = similarity[0]\n",
        "\n",
        "    # Filter by difficulty level\n",
        "    filtered_data = data[data['Difficulty Level'].str.lower() == level.lower()]\n",
        "\n",
        "    # Sort only by Similarity\n",
        "    results = filtered_data.sort_values(['Similarity'], ascending=False)\n",
        "\n",
        "    # Return Top 5 Recommendations\n",
        "    return results[['Course Name', 'University', 'Course Rating', 'Similarity', 'Course URL']].head(5)\n",
        "\n",
        "# Take Input from User\n",
        "interest = input(\"Enter your area of interest: \").strip()\n",
        "skills = input(\"Enter your current skills (comma-separated): \").strip()\n",
        "level = input(\"Enter your difficulty level (Beginner, Intermediate, Advanced): \").strip()\n",
        "\n",
        "# Display Recommendations\n",
        "recommendations = recommend_courses(interest, skills, level)\n",
        "print(\"\\nTop Course Recommendations:\")\n",
        "print(recommendations.to_string(index=False))\n"
      ],
      "metadata": {
        "id": "uK3E-Z7rIXtj"
      },
      "execution_count": 10,
      "outputs": []
    }
  ]
}
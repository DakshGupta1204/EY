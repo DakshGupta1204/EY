{
  "nbformat": 4,
  "nbformat_minor": 0,
  "metadata": {
    "colab": {
      "provenance": []
    },
    "kernelspec": {
      "name": "python3",
      "display_name": "Python 3"
    },
    "language_info": {
      "name": "python"
    }
  },
  "cells": [
    {
      "cell_type": "code",
      "source": [
        "!pip install flask\n",
        "!pip install pyngrok\n",
        "!pip install flask_cors\n",
        "\n",
        "import pandas as pd\n",
        "from sklearn.feature_extraction.text import TfidfVectorizer\n",
        "from sklearn.metrics.pairwise import cosine_similarity\n",
        "from flask import Flask,request,jsonify\n",
        "from pyngrok import ngrok\n",
        "from flask_cors import CORS\n",
        "# Load dataset\n",
        "data = pd.read_csv('/content/Coursera.csv')  # Replace with actual file path\n",
        "\n",
        "# Preprocessing\n",
        "data['Skills'] = data['Skills'].fillna('')\n",
        "data['Combined_Text'] = data['Course Description'] + \" \" + data['Skills']\n",
        "\n",
        "# Vectorization\n",
        "tfidf = TfidfVectorizer(stop_words='english')\n",
        "tfidf_matrix = tfidf.fit_transform(data['Combined_Text'])\n",
        "\n",
        "# Recommendation Function\n",
        "def recommend_courses(interest, skills, level):\n",
        "    query = interest + \" \" + skills\n",
        "    query_vector = tfidf.transform([query])\n",
        "\n",
        "    # Cosine Similarity\n",
        "    similarity = cosine_similarity(query_vector, tfidf_matrix)\n",
        "\n",
        "    # Add similarity scores\n",
        "    data['Similarity'] = similarity[0]\n",
        "\n",
        "    # Filter by difficulty level\n",
        "    filtered_data = data[data['Difficulty Level'].str.lower() == level.lower()]\n",
        "\n",
        "    # Sort only by Similarity\n",
        "    results = filtered_data.sort_values(['Similarity'], ascending=False)\n",
        "\n",
        "    # Return Top 5 Recommendations\n",
        "    return results[['Course Name', 'University', 'Course Rating', 'Similarity', 'Course URL','Course Description']].head(5)\n",
        "\n",
        "app = Flask(__name__)\n",
        "CORS(app)\n",
        "@app.route('/recommend',methods=['POST'])\n",
        "\n",
        "\n",
        "def recommend():\n",
        "    # Get the input data from the POST request\n",
        "    try:\n",
        "        req_data = request.get_json()\n",
        "        interest = req_data['interest']\n",
        "        skills = req_data['skills']\n",
        "        level = req_data['level']\n",
        "    except KeyError:\n",
        "        return jsonify({'error': 'Missing required fields'}), 400\n",
        "\n",
        "    # Get recommendations\n",
        "    recommendations = recommend_courses(interest, skills, level)\n",
        "\n",
        "    # Convert recommendations to dictionary format\n",
        "    recommendations_list = recommendations.to_dict(orient='records')\n",
        "\n",
        "    return jsonify(recommendations_list)\n",
        "\n",
        "# Start Flask Server\n",
        "if __name__ == '__main__':\n",
        "    # Create a tunnel to the Flask app through ngrok\n",
        "    ngrok.set_auth_token('2rA9QT8w4GXftuLHB7rLNG5R8vM_6NbtYDUYp55c4bLwthA79')\n",
        "    public_url = ngrok.connect(5000)\n",
        "    print(f\"Flask app is live at {public_url}\")\n",
        "    app.run(port=5000)\n",
        "\n",
        "# Take Input from User\n",
        "# interest = input(\"Enter your area of interest: \").strip()\n",
        "# skills = input(\"Enter your current skills (comma-separated): \").strip()\n",
        "# level = input(\"Enter your difficulty level (Beginner, Intermediate, Advanced): \").strip()\n",
        "\n",
        "# # Display Recommendations\n",
        "# recommendations = recommend_courses(interest, skills, level)\n",
        "# print(\"\\nTop Course Recommendations:\")\n",
        "# print(recommendations.to_string(index=False))\n"
      ],
      "metadata": {
        "id": "uK3E-Z7rIXtj",
        "outputId": "628d7d47-87ac-49b6-fcc2-aa66b9f32840",
        "colab": {
          "base_uri": "https://localhost:8080/"
        }
      },
      "execution_count": 1,
      "outputs": [
        {
          "output_type": "stream",
          "name": "stdout",
          "text": [
            "Requirement already satisfied: flask in /usr/local/lib/python3.10/dist-packages (3.1.0)\n",
            "Requirement already satisfied: Werkzeug>=3.1 in /usr/local/lib/python3.10/dist-packages (from flask) (3.1.3)\n",
            "Requirement already satisfied: Jinja2>=3.1.2 in /usr/local/lib/python3.10/dist-packages (from flask) (3.1.5)\n",
            "Requirement already satisfied: itsdangerous>=2.2 in /usr/local/lib/python3.10/dist-packages (from flask) (2.2.0)\n",
            "Requirement already satisfied: click>=8.1.3 in /usr/local/lib/python3.10/dist-packages (from flask) (8.1.8)\n",
            "Requirement already satisfied: blinker>=1.9 in /usr/local/lib/python3.10/dist-packages (from flask) (1.9.0)\n",
            "Requirement already satisfied: MarkupSafe>=2.0 in /usr/local/lib/python3.10/dist-packages (from Jinja2>=3.1.2->flask) (3.0.2)\n",
            "Collecting pyngrok\n",
            "  Downloading pyngrok-7.2.3-py3-none-any.whl.metadata (8.7 kB)\n",
            "Requirement already satisfied: PyYAML>=5.1 in /usr/local/lib/python3.10/dist-packages (from pyngrok) (6.0.2)\n",
            "Downloading pyngrok-7.2.3-py3-none-any.whl (23 kB)\n",
            "Installing collected packages: pyngrok\n",
            "Successfully installed pyngrok-7.2.3\n",
            "Collecting flask_cors\n",
            "  Downloading Flask_Cors-5.0.0-py2.py3-none-any.whl.metadata (5.5 kB)\n",
            "Requirement already satisfied: Flask>=0.9 in /usr/local/lib/python3.10/dist-packages (from flask_cors) (3.1.0)\n",
            "Requirement already satisfied: Werkzeug>=3.1 in /usr/local/lib/python3.10/dist-packages (from Flask>=0.9->flask_cors) (3.1.3)\n",
            "Requirement already satisfied: Jinja2>=3.1.2 in /usr/local/lib/python3.10/dist-packages (from Flask>=0.9->flask_cors) (3.1.5)\n",
            "Requirement already satisfied: itsdangerous>=2.2 in /usr/local/lib/python3.10/dist-packages (from Flask>=0.9->flask_cors) (2.2.0)\n",
            "Requirement already satisfied: click>=8.1.3 in /usr/local/lib/python3.10/dist-packages (from Flask>=0.9->flask_cors) (8.1.8)\n",
            "Requirement already satisfied: blinker>=1.9 in /usr/local/lib/python3.10/dist-packages (from Flask>=0.9->flask_cors) (1.9.0)\n",
            "Requirement already satisfied: MarkupSafe>=2.0 in /usr/local/lib/python3.10/dist-packages (from Jinja2>=3.1.2->Flask>=0.9->flask_cors) (3.0.2)\n",
            "Downloading Flask_Cors-5.0.0-py2.py3-none-any.whl (14 kB)\n",
            "Installing collected packages: flask_cors\n",
            "Successfully installed flask_cors-5.0.0\n",
            "Flask app is live at NgrokTunnel: \"https://d9d2-35-185-48-155.ngrok-free.app\" -> \"http://localhost:5000\"\n",
            " * Serving Flask app '__main__'\n",
            " * Debug mode: off\n"
          ]
        },
        {
          "output_type": "stream",
          "name": "stderr",
          "text": [
            "INFO:werkzeug:\u001b[31m\u001b[1mWARNING: This is a development server. Do not use it in a production deployment. Use a production WSGI server instead.\u001b[0m\n",
            " * Running on http://127.0.0.1:5000\n",
            "INFO:werkzeug:\u001b[33mPress CTRL+C to quit\u001b[0m\n",
            "INFO:werkzeug:127.0.0.1 - - [12/Jan/2025 13:16:52] \"POST /recommend HTTP/1.1\" 200 -\n"
          ]
        }
      ]
    },
    {
      "cell_type": "code",
      "source": [
        "!pip install pyngrok\n",
        "!pip install flask_cors"
      ],
      "metadata": {
        "id": "oLlkTMfaGow-",
        "outputId": "bf962be3-8134-40c1-e1e2-c27b85939271",
        "colab": {
          "base_uri": "https://localhost:8080/"
        }
      },
      "execution_count": 1,
      "outputs": [
        {
          "output_type": "stream",
          "name": "stdout",
          "text": [
            "Collecting pyngrok\n",
            "  Downloading pyngrok-7.2.2-py3-none-any.whl.metadata (8.4 kB)\n",
            "Requirement already satisfied: PyYAML>=5.1 in /usr/local/lib/python3.10/dist-packages (from pyngrok) (6.0.2)\n",
            "Downloading pyngrok-7.2.2-py3-none-any.whl (22 kB)\n",
            "Installing collected packages: pyngrok\n",
            "Successfully installed pyngrok-7.2.2\n",
            "Collecting flask_cors\n",
            "  Downloading Flask_Cors-5.0.0-py2.py3-none-any.whl.metadata (5.5 kB)\n",
            "Requirement already satisfied: Flask>=0.9 in /usr/local/lib/python3.10/dist-packages (from flask_cors) (3.1.0)\n",
            "Requirement already satisfied: Werkzeug>=3.1 in /usr/local/lib/python3.10/dist-packages (from Flask>=0.9->flask_cors) (3.1.3)\n",
            "Requirement already satisfied: Jinja2>=3.1.2 in /usr/local/lib/python3.10/dist-packages (from Flask>=0.9->flask_cors) (3.1.4)\n",
            "Requirement already satisfied: itsdangerous>=2.2 in /usr/local/lib/python3.10/dist-packages (from Flask>=0.9->flask_cors) (2.2.0)\n",
            "Requirement already satisfied: click>=8.1.3 in /usr/local/lib/python3.10/dist-packages (from Flask>=0.9->flask_cors) (8.1.7)\n",
            "Requirement already satisfied: blinker>=1.9 in /usr/local/lib/python3.10/dist-packages (from Flask>=0.9->flask_cors) (1.9.0)\n",
            "Requirement already satisfied: MarkupSafe>=2.0 in /usr/local/lib/python3.10/dist-packages (from Jinja2>=3.1.2->Flask>=0.9->flask_cors) (3.0.2)\n",
            "Downloading Flask_Cors-5.0.0-py2.py3-none-any.whl (14 kB)\n",
            "Installing collected packages: flask_cors\n",
            "Successfully installed flask_cors-5.0.0\n"
          ]
        }
      ]
    }
  ]
}
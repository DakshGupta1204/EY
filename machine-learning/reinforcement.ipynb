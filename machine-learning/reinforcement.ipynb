{
  "nbformat": 4,
  "nbformat_minor": 0,
  "metadata": {
    "colab": {
      "provenance": []
    },
    "kernelspec": {
      "name": "python3",
      "display_name": "Python 3"
    },
    "language_info": {
      "name": "python"
    }
  },
  "cells": [
    {
      "cell_type": "code",
      "source": [
        "# Install necessary libraries\n",
        "!pip install flask flask_cors pyngrok pandas\n",
        "\n",
        "from flask import Flask, request, jsonify\n",
        "from pyngrok import ngrok\n",
        "from flask_cors import CORS\n",
        "import pandas as pd\n",
        "\n",
        "# Define the recommendation function\n",
        "def recommend_courses_based_on_skills(data, current_course):\n",
        "    \"\"\"\n",
        "    Recommends courses based on skill comparison and difficulty level.\n",
        "    \"\"\"\n",
        "    difficulty_mapping = {\n",
        "        'beginner': 0,\n",
        "        'intermediate': 1,\n",
        "        'advanced': 2,\n",
        "        'not calibrated': -1\n",
        "    }\n",
        "\n",
        "    data['Difficulty Level Numeric'] = data['Difficulty Level'].str.lower().map(difficulty_mapping)\n",
        "\n",
        "    try:\n",
        "        current_course_data = data.loc[data['Course Name'] == current_course]\n",
        "        current_difficulty = current_course_data['Difficulty Level Numeric'].iloc[0]\n",
        "        current_skills = current_course_data['Skills'].iloc[0]\n",
        "\n",
        "        if current_difficulty == -1:\n",
        "            return f\"Course '{current_course}' is not calibrated for difficulty.\"\n",
        "        if current_skills is None or current_skills.strip() == '':\n",
        "            current_skills = []\n",
        "        else:\n",
        "            current_skills = [skill.strip().lower() for skill in current_skills.split()]\n",
        "\n",
        "    except IndexError:\n",
        "        return f\"Error: Course '{current_course}' not found in the dataset.\"\n",
        "\n",
        "    if current_difficulty == 2:\n",
        "        return \"Your current course is at an advanced level. It's time to develop new skills for further progression!\"\n",
        "\n",
        "    higher_level_courses = data[data['Difficulty Level Numeric'] == current_difficulty + 1]\n",
        "\n",
        "    if higher_level_courses.empty:\n",
        "        return \"No courses are available one level higher in difficulty.\"\n",
        "\n",
        "    recommended_courses = []\n",
        "    for _, course_row in higher_level_courses.iterrows():\n",
        "        course_name = course_row['Course Name']\n",
        "        course_skills = course_row['Skills']\n",
        "\n",
        "        if course_skills is None or course_skills.strip() == '':\n",
        "            course_skills = []\n",
        "        else:\n",
        "            course_skills = [skill.strip().lower() for skill in course_skills.split()]\n",
        "\n",
        "        skill_overlap = set(current_skills) & set(course_skills)\n",
        "        if skill_overlap:\n",
        "            recommended_courses.append((course_name, len(skill_overlap)))\n",
        "\n",
        "    if not recommended_courses:\n",
        "        return \"No suitable courses found one level higher based on your skills.\"\n",
        "\n",
        "    recommended_courses = sorted(recommended_courses, key=lambda x: x[1], reverse=True)[:5]\n",
        "    return [course[0] for course in recommended_courses]\n",
        "\n",
        "# Load dataset\n",
        "file_path = '/content/Coursera.csv'  # Update path if necessary\n",
        "data = pd.read_csv(file_path)\n",
        "\n",
        "# Flask app setup\n",
        "app = Flask(__name__)\n",
        "CORS(app)\n",
        "\n",
        "@app.route('/recommend', methods=['POST'])\n",
        "def recommend():\n",
        "    \"\"\"Endpoint to recommend courses.\"\"\"\n",
        "    try:\n",
        "        req_data = request.get_json()\n",
        "        current_course = req_data['current_course']\n",
        "\n",
        "        recommendations = recommend_courses_based_on_skills(data, current_course)\n",
        "        if isinstance(recommendations, list):\n",
        "            details = []\n",
        "            for course in recommendations:\n",
        "                course_details = data[data['Course Name'] == course].iloc[0]\n",
        "                details.append({\n",
        "                    \"Course Name\": course,\n",
        "                    \"Description\": course_details['Course Description'],\n",
        "                    \"Difficulty Level\": course_details['Difficulty Level']\n",
        "                })\n",
        "            return jsonify({\n",
        "                \"recommendations\": details\n",
        "            })\n",
        "        else:\n",
        "            return jsonify({\"message\": recommendations})\n",
        "    except Exception as e:\n",
        "        return jsonify({\"error\": str(e)}), 500\n",
        "\n",
        "if __name__ == '__main__':\n",
        "    # Start Ngrok tunnel\n",
        "    ngrok.set_auth_token('2rA9QT8w4GXftuLHB7rLNG5R8vM_6NbtYDUYp55c4bLwthA79')  # Replace with your Ngrok auth token\n",
        "    public_url = ngrok.connect(5000)\n",
        "    print(f\"Server is live at {public_url}\")\n",
        "    app.run(port=5000)\n"
      ],
      "metadata": {
        "colab": {
          "base_uri": "https://localhost:8080/"
        },
        "id": "y7aUGAWTgmZn",
        "outputId": "ecb5a566-9be6-4f6f-da02-a870b42db7c6"
      },
      "execution_count": 4,
      "outputs": [
        {
          "metadata": {
            "tags": null
          },
          "name": "stdout",
          "output_type": "stream",
          "text": [
            "Requirement already satisfied: flask in /usr/local/lib/python3.10/dist-packages (3.1.0)\n",
            "Requirement already satisfied: flask_cors in /usr/local/lib/python3.10/dist-packages (5.0.0)\n",
            "Requirement already satisfied: pyngrok in /usr/local/lib/python3.10/dist-packages (7.2.3)\n",
            "Requirement already satisfied: pandas in /usr/local/lib/python3.10/dist-packages (2.2.2)\n",
            "Requirement already satisfied: Werkzeug>=3.1 in /usr/local/lib/python3.10/dist-packages (from flask) (3.1.3)\n",
            "Requirement already satisfied: Jinja2>=3.1.2 in /usr/local/lib/python3.10/dist-packages (from flask) (3.1.5)\n",
            "Requirement already satisfied: itsdangerous>=2.2 in /usr/local/lib/python3.10/dist-packages (from flask) (2.2.0)\n",
            "Requirement already satisfied: click>=8.1.3 in /usr/local/lib/python3.10/dist-packages (from flask) (8.1.8)\n",
            "Requirement already satisfied: blinker>=1.9 in /usr/local/lib/python3.10/dist-packages (from flask) (1.9.0)\n",
            "Requirement already satisfied: PyYAML>=5.1 in /usr/local/lib/python3.10/dist-packages (from pyngrok) (6.0.2)\n",
            "Requirement already satisfied: numpy>=1.22.4 in /usr/local/lib/python3.10/dist-packages (from pandas) (1.26.4)\n",
            "Requirement already satisfied: python-dateutil>=2.8.2 in /usr/local/lib/python3.10/dist-packages (from pandas) (2.8.2)\n",
            "Requirement already satisfied: pytz>=2020.1 in /usr/local/lib/python3.10/dist-packages (from pandas) (2024.2)\n",
            "Requirement already satisfied: tzdata>=2022.7 in /usr/local/lib/python3.10/dist-packages (from pandas) (2024.2)\n",
            "Requirement already satisfied: MarkupSafe>=2.0 in /usr/local/lib/python3.10/dist-packages (from Jinja2>=3.1.2->flask) (3.0.2)\n",
            "Requirement already satisfied: six>=1.5 in /usr/local/lib/python3.10/dist-packages (from python-dateutil>=2.8.2->pandas) (1.17.0)\n",
            "Server is live at NgrokTunnel: \"https://da0d-34-48-139-52.ngrok-free.app\" -> \"http://localhost:5000\"\n",
            " * Serving Flask app '__main__'\n",
            " * Debug mode: off\n"
          ]
        },
        {
          "metadata": {
            "tags": null
          },
          "name": "stderr",
          "output_type": "stream",
          "text": [
            "INFO:werkzeug:\u001b[31m\u001b[1mWARNING: This is a development server. Do not use it in a production deployment. Use a production WSGI server instead.\u001b[0m\n",
            " * Running on http://127.0.0.1:5000\n",
            "INFO:werkzeug:\u001b[33mPress CTRL+C to quit\u001b[0m\n",
            "INFO:werkzeug:127.0.0.1 - - [12/Jan/2025 13:18:56] \"POST /recommend HTTP/1.1\" 200 -\n"
          ]
        }
      ]
    }
  ]
}
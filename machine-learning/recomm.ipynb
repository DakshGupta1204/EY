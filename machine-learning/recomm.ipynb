{
  "nbformat": 4,
  "nbformat_minor": 0,
  "metadata": {
    "colab": {
      "provenance": []
    },
    "kernelspec": {
      "name": "python3",
      "display_name": "Python 3"
    },
    "language_info": {
      "name": "python"
    }
  },
  "cells": [
    {
      "cell_type": "code",
      "source": [
        "import pandas as pd\n",
        "from sklearn.feature_extraction.text import TfidfVectorizer\n",
        "from sklearn.metrics.pairwise import cosine_similarity\n",
        "\n",
        "# Load dataset\n",
        "data = pd.read_csv('/content/Coursera.csv')  # Replace with actual file path\n",
        "\n",
        "# Preprocessing\n",
        "data['Skills'] = data['Skills'].fillna('')\n",
        "data['Combined_Text'] = data['Course Description'] + \" \" + data['Skills']\n",
        "\n",
        "# Vectorization\n",
        "tfidf = TfidfVectorizer(stop_words='english')\n",
        "tfidf_matrix = tfidf.fit_transform(data['Combined_Text'])\n",
        "\n",
        "# Recommendation Function\n",
        "def recommend_courses(interest, skills, level):\n",
        "    query = interest + \" \" + skills\n",
        "    query_vector = tfidf.transform([query])\n",
        "\n",
        "    # Cosine Similarity\n",
        "    similarity = cosine_similarity(query_vector, tfidf_matrix)\n",
        "\n",
        "    # Add similarity scores\n",
        "    data['Similarity'] = similarity[0]\n",
        "\n",
        "    # Filter by difficulty level\n",
        "    filtered_data = data[data['Difficulty Level'].str.lower() == level.lower()]\n",
        "\n",
        "    # Sort only by Similarity\n",
        "    results = filtered_data.sort_values(['Similarity'], ascending=False)\n",
        "\n",
        "    # Return Top 5 Recommendations\n",
        "    return results[['Course Name', 'University', 'Course Rating', 'Similarity', 'Course URL']].head(5)\n",
        "\n",
        "# Take Input from User\n",
        "interest = input(\"Enter your area of interest: \").strip()\n",
        "skills = input(\"Enter your current skills (comma-separated): \").strip()\n",
        "level = input(\"Enter your difficulty level (Beginner, Intermediate, Advanced): \").strip()\n",
        "\n",
        "# Display Recommendations\n",
        "recommendations = recommend_courses(interest, skills, level)\n",
        "print(\"\\nTop Course Recommendations:\")\n",
        "print(recommendations.to_string(index=False))\n"
      ],
      "metadata": {
        "colab": {
          "base_uri": "https://localhost:8080/"
        },
        "id": "uK3E-Z7rIXtj",
        "outputId": "57688e29-4b17-4669-bb1f-ac99f01d4ff1"
      },
      "execution_count": 6,
      "outputs": [
        {
          "output_type": "stream",
          "name": "stdout",
          "text": [
            "Enter your area of interest: Business Strategy, Data Analysis\n",
            "Enter your current skills (comma-separated): SQL, Automation, Finance, Programming\n",
            "Enter your difficulty level (Beginner, Intermediate, Advanced): intermediate\n",
            "\n",
            "Top Course Recommendations:\n",
            "                                              Course Name               University Course Rating  Similarity                                                                               Course URL\n",
            "                         Foundations of Business Strategy   University of Virginia           4.7    0.283211                  https://www.coursera.org/learn/uva-darden-foundations-business-strategy\n",
            "Performing Data Aggregation using SQL Aggregate Functions Coursera Project Network           4.8    0.264167 https://www.coursera.org/learn/performing-data-aggregation-using-sql-aggregate-functions\n",
            "                         Strategic Planning and Execution   University of Virginia           4.7    0.248431                   https://www.coursera.org/learn/uva-darden-strategic-planning-execution\n",
            "               Foundations for Big Data Analysis with SQL                 Cloudera           4.8    0.206634                         https://www.coursera.org/learn/foundations-big-data-analysis-sql\n",
            "                                      Time Value of Money   University of Michigan           4.8    0.205502                                       https://www.coursera.org/learn/time-value-of-money\n"
          ]
        }
      ]
    }
  ]
}
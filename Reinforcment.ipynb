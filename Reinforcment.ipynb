{
  "nbformat": 4,
  "nbformat_minor": 0,
  "metadata": {
    "colab": {
      "provenance": [],
      "authorship_tag": "ABX9TyPgaBPghgIOc/9Eb9z70nYS",
      "include_colab_link": true
    },
    "kernelspec": {
      "name": "python3",
      "display_name": "Python 3"
    },
    "language_info": {
      "name": "python"
    }
  },
  "cells": [
    {
      "cell_type": "markdown",
      "metadata": {
        "id": "view-in-github",
        "colab_type": "text"
      },
      "source": [
        "<a href=\"https://colab.research.google.com/github/DakshGupta1204/EY/blob/Reinforcement/Reinforcment.ipynb\" target=\"_parent\"><img src=\"https://colab.research.google.com/assets/colab-badge.svg\" alt=\"Open In Colab\"/></a>"
      ]
    },
    {
      "cell_type": "code",
      "source": [
        "\n",
        "import pandas as pd\n",
        "import os\n",
        "\n",
        "# Replace 'Coursera.csv' with the actual path to your CSV file\n",
        "# If the file is in your current working directory, you can just use 'Coursera.csv'\n",
        "\n",
        "\n",
        "def recommend_course(current_course, data):\n",
        "    \"\"\"\n",
        "    Recommends a similar course based on skill level and prerequisites.\n",
        "    \"\"\"\n",
        "    try:\n",
        "        # Find the skill level of the current course\n",
        "        current_skill_level = data[data['Course Description'] == current_course]['Skill'].values[0]\n",
        "    except IndexError:\n",
        "        print(f\"Error: Course '{current_course}' not found in the dataset.\")\n",
        "        return \"No suitable course found.\"\n",
        "\n",
        "    # Find courses with the same skill level\n",
        "    similar_courses = data[data['Skill'] == current_skill_level]\n",
        "\n",
        "    # Filter out the current course\n",
        "    similar_courses = similar_courses[similar_courses['Course Description'] != current_course]\n",
        "\n",
        "    # Prioritize courses that build on the current course's prerequisites\n",
        "    if not similar_courses.empty:\n",
        "        recommended_course = similar_courses.iloc[0]['Course Description']\n",
        "    else:\n",
        "        # If no course at the same level, suggest a higher-level course that doesn't require prerequisites\n",
        "        higher_level_courses = data[data['Skill'] > current_skill_level]\n",
        "        if not higher_level_courses.empty:\n",
        "            recommended_course = higher_level_courses[higher_level_courses['Prerequisites'] == ''].iloc[0]['Course Description'] if not higher_level_courses[higher_level_courses['Prerequisites'] == ''].empty else higher_level_courses.iloc[0]['Course Description']\n",
        "        else:\n",
        "            recommended_course = \"No suitable course found.\"\n",
        "\n",
        "    return recommended_course\n",
        "\n",
        "# Example usage:\n",
        "current_course =  #Link to selected course\n",
        "recommendation = recommend_course(current_course, data)\n",
        "print(f\"Recommended course after completing {current_course}: {recommendation}\")"
      ],
      "metadata": {
        "id": "1UtYYjEcJhKa"
      },
      "execution_count": null,
      "outputs": []
    }
  ]
}
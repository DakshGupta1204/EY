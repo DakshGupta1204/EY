{
  "nbformat": 4,
  "nbformat_minor": 0,
  "metadata": {
    "colab": {
      "provenance": [],
      "authorship_tag": "ABX9TyMb4OcqHngGCosjXQX9BFJ6",
      "include_colab_link": true
    },
    "kernelspec": {
      "name": "python3",
      "display_name": "Python 3"
    },
    "language_info": {
      "name": "python"
    }
  },
  "cells": [
    {
      "cell_type": "markdown",
      "metadata": {
        "id": "view-in-github",
        "colab_type": "text"
      },
      "source": [
        "<a href=\"https://colab.research.google.com/github/DakshGupta1204/EY/blob/recomm/recomm.ipynb\" target=\"_parent\"><img src=\"https://colab.research.google.com/assets/colab-badge.svg\" alt=\"Open In Colab\"/></a>"
      ]
    },
    {
      "cell_type": "code",
      "source": [
        "import pandas as pd\n",
        "from sklearn.feature_extraction.text import TfidfVectorizer\n",
        "from sklearn.metrics.pairwise import cosine_similarity\n",
        "\n",
        "# Load dataset (Preprocessing Done Only Once)\n",
        "data = pd.read_csv('/content/Coursera.csv')  # Replace with actual file path\n",
        "\n",
        "# Fill missing values\n",
        "data['Skills'] = data['Skills'].fillna('')\n",
        "data['Combined_Text'] = data['Course Description'] + \" \" + data['Skills']\n",
        "\n",
        "# Vectorization (Done Once)\n",
        "tfidf = TfidfVectorizer(stop_words='english')\n",
        "tfidf_matrix = tfidf.fit_transform(data['Combined_Text'])\n",
        "\n",
        "# Recommendation Function\n",
        "def recommend_courses(interest, skills, level):\n",
        "    # Query Transformation\n",
        "    query = interest + \" \" + skills\n",
        "    query_vector = tfidf.transform([query])  # Transform Query Only\n",
        "\n",
        "    # Cosine Similarity\n",
        "    similarity = cosine_similarity(query_vector, tfidf_matrix)\n",
        "\n",
        "    # Append Similarity Scores to Data\n",
        "    data['Similarity'] = similarity[0]\n",
        "\n",
        "    # Filter by Level and Sort by Similarity\n",
        "    filtered_data = data[data['Difficulty Level'].str.lower() == level.lower()]\n",
        "    results = filtered_data.sort_values('Similarity', ascending=False)\n",
        "\n",
        "    # Return Top 5 Recommendations\n",
        "    return results[['Course Name', 'University', 'Course Rating', 'Similarity', 'Course URL']].head(5)\n",
        "\n",
        "# Input Loop (Dynamic Recommendations Without Re-Preprocessing)\n",
        "while True:\n",
        "    # Take Input from User\n",
        "    interest = input(\"\\nEnter your area of interest (or 'exit' to stop): \").strip()\n",
        "    if interest.lower() == 'exit':  # Exit condition\n",
        "        break\n",
        "\n",
        "    skills = input(\"Enter your current skills (comma-separated): \").strip()\n",
        "    level = input(\"Enter your difficulty level (Beginner, Intermediate, Advanced): \").strip()\n",
        "\n",
        "    # Display Recommendations\n",
        "    recommendations = recommend_courses(interest, skills, level)\n",
        "    print(\"\\nTop Course Recommendations:\")\n",
        "    print(recommendations.to_string(index=False))\n"
      ],
      "metadata": {
        "colab": {
          "base_uri": "https://localhost:8080/"
        },
        "id": "uK3E-Z7rIXtj",
        "outputId": "2947864b-9859-43e0-a6aa-933e695b76d3"
      },
      "execution_count": 7,
      "outputs": [
        {
          "name": "stdout",
          "output_type": "stream",
          "text": [
            "\n",
            "Enter your area of interest (or 'exit' to stop): Data Science\n",
            "Enter your current skills (comma-separated): Python, SQL, Machine Learning\n",
            "Enter your difficulty level (Beginner, Intermediate, Advanced): Intermediate\n",
            "\n",
            "Top Course Recommendations:\n",
            "                                              Course Name                             University Course Rating  Similarity                                                                               Course URL\n",
            "                 Introduction to Applied Machine Learning Alberta Machine Intelligence Institute           4.7    0.469817                                  https://www.coursera.org/learn/machine-learning-applied\n",
            "Performing Data Aggregation using SQL Aggregate Functions               Coursera Project Network           4.8    0.349101 https://www.coursera.org/learn/performing-data-aggregation-using-sql-aggregate-functions\n",
            "                       Machine Learning for Data Analysis                    Wesleyan University           4.2    0.348027                            https://www.coursera.org/learn/machine-learning-data-analysis\n",
            "           Exploratory Data Analysis for Machine Learning                                    IBM           4.8    0.284561        https://www.coursera.org/learn/ibm-exploratory-data-analysis-for-machine-learning\n",
            "           Exploratory Data Analysis for Machine Learning                                    IBM           4.8    0.284561        https://www.coursera.org/learn/ibm-exploratory-data-analysis-for-machine-learning\n",
            "\n",
            "Enter your area of interest (or 'exit' to stop): exit\n"
          ]
        }
      ]
    }
  ]
}